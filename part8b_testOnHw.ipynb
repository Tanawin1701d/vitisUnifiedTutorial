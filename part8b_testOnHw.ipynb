{
 "cells": [
  {
   "cell_type": "markdown",
   "id": "38f98550",
   "metadata": {},
   "source": [
    "# Hw testing on ZCU102"
   ]
  },
  {
   "cell_type": "markdown",
   "id": "5f0e7a80",
   "metadata": {},
   "source": [
    "### This task will introduce you to to test the generated system on the ZCU102\n",
    "- please copy the following files from ```hls4mlprjBuildTest_io_stream_name_VitisUnified/export``` to pynq-zcu102\n",
    "- pynq_driver.py\n",
    "- system.bit\n",
    "- system.hwh\n",
    "- and please copy this file as well\n"
   ]
  },
  {
   "cell_type": "code",
   "execution_count": 1,
   "id": "a0e69eaf",
   "metadata": {},
   "outputs": [],
   "source": [
    "# import the library\n",
    "from pynq import Overlay     # import the overlay\n",
    "from pynq import allocate    # import for CMA (contingeous memory allocation)\n",
    "from pynq import DefaultIP   # import the ip connector library for extension\n",
    "from pynq import Interrupt\n",
    "import pynq_driver\n",
    "import asyncio\n",
    "import numpy as np\n",
    "import os\n",
    "import subprocess\n",
    "import re\n",
    "import time"
   ]
  },
  {
   "cell_type": "code",
   "execution_count": null,
   "id": "89082d04",
   "metadata": {},
   "outputs": [
    {
     "data": {
      "application/javascript": "\ntry {\nrequire(['notebook/js/codecell'], function(codecell) {\n  codecell.CodeCell.options_default.highlight_modes[\n      'magic_text/x-csrc'] = {'reg':[/^%%microblaze/]};\n  Jupyter.notebook.events.one('kernel_ready.Kernel', function(){\n      Jupyter.notebook.get_cells().map(function(cell){\n          if (cell.cell_type == 'code'){ cell.auto_highlight(); } }) ;\n  });\n});\n} catch (e) {};\n"
     },
     "metadata": {},
     "output_type": "display_data"
    },
    {
     "data": {
      "application/javascript": "\ntry {\nrequire(['notebook/js/codecell'], function(codecell) {\n  codecell.CodeCell.options_default.highlight_modes[\n      'magic_text/x-csrc'] = {'reg':[/^%%pybind11/]};\n  Jupyter.notebook.events.one('kernel_ready.Kernel', function(){\n      Jupyter.notebook.get_cells().map(function(cell){\n          if (cell.cell_type == 'code'){ cell.auto_highlight(); } }) ;\n  });\n});\n} catch (e) {};\n"
     },
     "metadata": {},
     "output_type": "display_data"
    },
    {
     "name": "stdout",
     "output_type": "stream",
     "text": [
      "Help on Overlay in module pynq.overlay:\n",
      "\n",
      "<pynq.overlay.Overlay object>\n",
      "    Default documentation for overlay system.bit. The following\n",
      "    attributes are available on this overlay:\n",
      "    \n",
      "    IP Blocks\n",
      "    ----------\n",
      "    myproject_gem_1      : pynq_driver.MyDfxCtrl\n",
      "    axi_intc_0           : pynq.overlay.DefaultIP\n",
      "    ps_e                 : pynq.overlay.DefaultIP\n",
      "    \n",
      "    Hierarchies\n",
      "    -----------\n",
      "    None\n",
      "    \n",
      "    Interrupts\n",
      "    ----------\n",
      "    None\n",
      "    \n",
      "    GPIO Outputs\n",
      "    ------------\n",
      "    None\n",
      "    \n",
      "    Memories\n",
      "    ------------\n",
      "    PSDDR                : Memory\n",
      "\n"
     ]
    }
   ],
   "source": [
    "# create the overlay object\n",
    "overlay = Overlay(\"system.bit\")\n",
    "help(overlay)"
   ]
  },
  {
   "cell_type": "code",
   "execution_count": 4,
   "id": "0e5b0e03",
   "metadata": {},
   "outputs": [],
   "source": [
    "# create an instance of the interrupt\n",
    "my_interrupt = Interrupt('myproject_gem_1/interrupt')"
   ]
  },
  {
   "cell_type": "code",
   "execution_count": 5,
   "id": "9459e8ae",
   "metadata": {},
   "outputs": [],
   "source": [
    "# Load input from .npy file\n",
    "input_array  = np.load(\"inputGenbit.npy\").astype(np.float32)  # shape (20,4,4,1)\n",
    "output_array = np.zeros(input_array.shape, dtype=np.float32)\n",
    "\n",
    "# Allocate physically contiguous memory for input and output\n",
    "input_buffer = allocate(shape=input_array.shape, dtype=np.float32)\n",
    "output_buffer = allocate(shape=output_array.shape, dtype=np.float32)"
   ]
  },
  {
   "cell_type": "code",
   "execution_count": 6,
   "id": "625c2b1f",
   "metadata": {},
   "outputs": [
    {
     "name": "stdout",
     "output_type": "stream",
     "text": [
      "input array shape (10000, 4, 4, 1)\n",
      "output array shape (10000, 4, 4, 1)\n"
     ]
    }
   ],
   "source": [
    "# check input shape\n",
    "print(f\"input array shape {input_array.shape}\")\n",
    "print(f\"output array shape {output_array.shape}\")"
   ]
  },
  {
   "cell_type": "code",
   "execution_count": 7,
   "id": "7de66a89",
   "metadata": {},
   "outputs": [],
   "source": [
    "# copy data to input buffer\n",
    "np.copyto(input_buffer, input_array)\n",
    "input_buffer.flush()"
   ]
  },
  {
   "cell_type": "code",
   "execution_count": 8,
   "id": "d18bac75",
   "metadata": {},
   "outputs": [
    {
     "name": "stdout",
     "output_type": "stream",
     "text": [
      "input gmem_in0_ptr_input_1 will be set to addr: 0x78400000 with elements: 160000\n",
      "output gmem_out0_ptr_layer12_out will be set to addr: 0x78500000 with elements: 160000\n",
      "amount of queries will be set to: 10000 at address: 0x28\n",
      "prepare your interrupt\n",
      "global interrupt enable register\n",
      "enable gie successful\n",
      "ap_done interrupt enable register\n",
      "enable ap_done interrupt successful\n",
      "ap_done register clear\n",
      "clear ap_done interrupt successful\n",
      "----------------------\n"
     ]
    }
   ],
   "source": [
    "# get the ip and initialize the system\n",
    "ip = overlay.myproject_gem_1  # Replace with your IP instance name\n",
    "ip.set_input (0, input_buffer)\n",
    "ip.set_output(0, output_buffer)\n",
    "ip.set_amt_query(input_array.shape[0])\n",
    "ip.prepare_intr()"
   ]
  },
  {
   "cell_type": "code",
   "execution_count": 9,
   "id": "d12a031a",
   "metadata": {},
   "outputs": [],
   "source": [
    "async def wait_for_acc():\n",
    "    print(\"starting the accelerator\")\n",
    "    ip.ctrl_start()\n",
    "    print(\"waiting for the accelerator to finish\")\n",
    "    await my_interrupt.wait()\n",
    "    print(\"accelerator has finished\")\n"
   ]
  },
  {
   "cell_type": "code",
   "execution_count": 10,
   "id": "81750e60",
   "metadata": {},
   "outputs": [],
   "source": [
    "#### get event loop from asyncio\n",
    "loop = asyncio.get_event_loop()"
   ]
  },
  {
   "cell_type": "code",
   "execution_count": 11,
   "id": "fe5f7eb2",
   "metadata": {},
   "outputs": [
    {
     "name": "stdout",
     "output_type": "stream",
     "text": [
      "starting the accelerator\n",
      "waiting for the accelerator to finish\n",
      "accelerator has finished\n"
     ]
    }
   ],
   "source": [
    "task = loop.create_task(wait_for_acc())\n",
    "loop.run_until_complete(task)"
   ]
  },
  {
   "cell_type": "code",
   "execution_count": 12,
   "id": "372b1982",
   "metadata": {},
   "outputs": [],
   "source": [
    "output_buffer.invalidate()"
   ]
  },
  {
   "cell_type": "code",
   "execution_count": null,
   "id": "6a7834c2",
   "metadata": {},
   "outputs": [],
   "source": [
    "print(output_buffer)"
   ]
  },
  {
   "cell_type": "code",
   "execution_count": 14,
   "id": "31e1098e",
   "metadata": {},
   "outputs": [
    {
     "name": "stdout",
     "output_type": "stream",
     "text": [
      "we got output shape: (10000, 4, 4, 1)\n"
     ]
    }
   ],
   "source": [
    "# convert it to numpy array\n",
    "print(\"we got output shape:\", output_buffer.shape)\n",
    "outNp = np.array(output_buffer)"
   ]
  },
  {
   "cell_type": "code",
   "execution_count": 15,
   "id": "9bf5d406",
   "metadata": {},
   "outputs": [],
   "source": [
    "# save it to .npy file\n",
    "np.save(\"out_hw.npy\", outNp)"
   ]
  }
 ],
 "metadata": {
  "kernelspec": {
   "display_name": "Python 3 (ipykernel)",
   "language": "python",
   "name": "python3"
  },
  "language_info": {
   "codemirror_mode": {
    "name": "ipython",
    "version": 3
   },
   "file_extension": ".py",
   "mimetype": "text/x-python",
   "name": "python",
   "nbconvert_exporter": "python",
   "pygments_lexer": "ipython3",
   "version": "3.10.4"
  }
 },
 "nbformat": 4,
 "nbformat_minor": 5
}
