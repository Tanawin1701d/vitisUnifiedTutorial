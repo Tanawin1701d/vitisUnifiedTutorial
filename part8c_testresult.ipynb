{
 "cells": [
  {
   "cell_type": "markdown",
   "id": "47a6ea76",
   "metadata": {},
   "source": [
    "# validation"
   ]
  },
  {
   "cell_type": "markdown",
   "id": "2e2ec9eb",
   "metadata": {},
   "source": [
    "please copy the out_hw.npy file that generated from part b in to this folder"
   ]
  },
  {
   "cell_type": "code",
   "execution_count": null,
   "id": "ade1f554",
   "metadata": {},
   "outputs": [],
   "source": [
    "# import the required packages\n",
    "import os\n",
    "from pathlib import Path\n",
    "import numpy as np"
   ]
  },
  {
   "cell_type": "code",
   "execution_count": null,
   "id": "f22bf6cb",
   "metadata": {},
   "outputs": [],
   "source": [
    "test_root_path = Path(__file__).parent"
   ]
  },
  {
   "cell_type": "code",
   "execution_count": null,
   "id": "afe39253",
   "metadata": {},
   "outputs": [],
   "source": [
    "def checkEqual(a, b):\n",
    "    equal = np.array_equal(a, b)\n",
    "    if equal:\n",
    "        print(\"Test pass both are equal \\U0001F642\")\n",
    "    else:\n",
    "        print(\"Test Fail both are not equal \\U0001F62C\")"
   ]
  },
  {
   "cell_type": "code",
   "execution_count": null,
   "id": "69c87a12",
   "metadata": {},
   "outputs": [],
   "source": [
    "bridge_result = np.load(test_root_path / \"software.npy\")\n",
    "zcu_result    = np.load(test_root_path / \"out_hw.npy\")\n",
    "zcu_flat      = zcu_result.reshape(zcu_result.shape[0], -1)"
   ]
  },
  {
   "cell_type": "code",
   "execution_count": null,
   "id": "0362725c",
   "metadata": {},
   "outputs": [],
   "source": [
    "print(bridge_result.shape)\n",
    "print(zcu_result.shape)\n",
    "\n",
    "checkEqual(bridge_result, zcu_flat)"
   ]
  }
 ],
 "metadata": {
  "language_info": {
   "name": "python"
  }
 },
 "nbformat": 4,
 "nbformat_minor": 5
}
